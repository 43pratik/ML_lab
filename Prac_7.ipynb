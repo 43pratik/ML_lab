{
  "nbformat": 4,
  "nbformat_minor": 0,
  "metadata": {
    "colab": {
      "provenance": [],
      "authorship_tag": "ABX9TyProLFE82F1uj3UPtbaC8lz",
      "include_colab_link": true
    },
    "kernelspec": {
      "name": "python3",
      "display_name": "Python 3"
    },
    "language_info": {
      "name": "python"
    }
  },
  "cells": [
    {
      "cell_type": "markdown",
      "metadata": {
        "id": "view-in-github",
        "colab_type": "text"
      },
      "source": [
        "<a href=\"https://colab.research.google.com/github/43pratik/ML_lab/blob/main/Prac_7.ipynb\" target=\"_parent\"><img src=\"https://colab.research.google.com/assets/colab-badge.svg\" alt=\"Open In Colab\"/></a>"
      ]
    },
    {
      "cell_type": "code",
      "execution_count": 1,
      "metadata": {
        "id": "lRlE2RerFTgJ"
      },
      "outputs": [],
      "source": [
        "import pandas as pd\n",
        "import numpy as np\n",
        "from sklearn.model_selection import train_test_split\n",
        "from sklearn.preprocessing import StandardScaler\n",
        "from sklearn.metrics import accuracy_score, classification_report\n",
        "from sklearn.ensemble import BaggingClassifier, AdaBoostClassifier\n",
        "from sklearn.tree import DecisionTreeClassifier\n",
        "import matplotlib.pyplot as plt\n",
        "import seaborn as sns"
      ]
    },
    {
      "cell_type": "code",
      "source": [
        "data = pd.read_csv('/content/diabetes.csv')"
      ],
      "metadata": {
        "id": "_RaRslnwIwpT"
      },
      "execution_count": 3,
      "outputs": []
    },
    {
      "cell_type": "code",
      "source": [
        "#Preprocessing\n",
        "X = data.drop(\"Outcome\", axis=1)\n",
        "y = data[\"Outcome\"]"
      ],
      "metadata": {
        "id": "ZC3qt-_mJnCY"
      },
      "execution_count": 4,
      "outputs": []
    },
    {
      "cell_type": "code",
      "source": [
        "scaler = StandardScaler()\n",
        "X_scaled = scaler.fit_transform(X)\n",
        "X_train, X_test, y_train, y_test = train_test_split(X_scaled, y, test_size=0.2, random_state=42)"
      ],
      "metadata": {
        "id": "LArmNqZcJtB2"
      },
      "execution_count": 6,
      "outputs": []
    },
    {
      "cell_type": "code",
      "source": [
        "bagging_model = BaggingClassifier(estimator=DecisionTreeClassifier(), n_estimators=100, random_state=42) # Replace 'base_estimator' with 'estimator'\n",
        "bagging_model.fit(X_train, y_train)\n",
        "y_pred_bagging = bagging_model.predict(X_test)\n",
        "print(\"\\nBagging Results:\")\n",
        "print(\"Accuracy:\", accuracy_score(y_test, y_pred_bagging))\n",
        "print(\"Classification Report:\\n\", classification_report(y_test, y_pred_bagging))"
      ],
      "metadata": {
        "colab": {
          "base_uri": "https://localhost:8080/"
        },
        "id": "1CvmogNFJ8Z9",
        "outputId": "19a67f88-6c83-4894-f738-5a0a007f4c39"
      },
      "execution_count": 9,
      "outputs": [
        {
          "output_type": "stream",
          "name": "stdout",
          "text": [
            "\n",
            "Bagging Results:\n",
            "Accuracy: 0.7402597402597403\n",
            "Classification Report:\n",
            "               precision    recall  f1-score   support\n",
            "\n",
            "           0       0.81      0.78      0.79        99\n",
            "           1       0.63      0.67      0.65        55\n",
            "\n",
            "    accuracy                           0.74       154\n",
            "   macro avg       0.72      0.73      0.72       154\n",
            "weighted avg       0.75      0.74      0.74       154\n",
            "\n"
          ]
        }
      ]
    },
    {
      "cell_type": "code",
      "source": [
        "# Boosting - Using AdaBoost\n",
        "boosting_model = AdaBoostClassifier(n_estimators=100, random_state=42)\n",
        "boosting_model.fit(X_train, y_train)\n",
        "y_pred_boosting = boosting_model.predict(X_test)\n",
        "print(\"\\nBoosting Results:\")\n",
        "print(\"Accuracy:\", accuracy_score(y_test, y_pred_boosting))\n",
        "print(\"Classification Report:\\n\", classification_report(y_test, y_pred_boosting))"
      ],
      "metadata": {
        "colab": {
          "base_uri": "https://localhost:8080/"
        },
        "id": "aHIsIan1KYD4",
        "outputId": "da9b1e90-aa69-47e4-fff8-44adddfa4b07"
      },
      "execution_count": 10,
      "outputs": [
        {
          "output_type": "stream",
          "name": "stdout",
          "text": [
            "\n",
            "Boosting Results:\n",
            "Accuracy: 0.7402597402597403\n",
            "Classification Report:\n",
            "               precision    recall  f1-score   support\n",
            "\n",
            "           0       0.81      0.78      0.79        99\n",
            "           1       0.63      0.67      0.65        55\n",
            "\n",
            "    accuracy                           0.74       154\n",
            "   macro avg       0.72      0.73      0.72       154\n",
            "weighted avg       0.75      0.74      0.74       154\n",
            "\n"
          ]
        }
      ]
    },
    {
      "cell_type": "code",
      "source": [
        "importances = boosting_model.feature_importances_\n",
        "features = data.columns[:-1]\n",
        "sns.barplot(x=importances, y=features)\n",
        "plt.title(\"Feature Importances (Boosting)\")\n",
        "plt.xlabel(\"Importance\")\n",
        "plt.ylabel(\"Feature\")\n",
        "plt.tight_layout()\n",
        "plt.show()"
      ],
      "metadata": {
        "colab": {
          "base_uri": "https://localhost:8080/",
          "height": 487
        },
        "id": "JHuypE6rK1or",
        "outputId": "3cf0bfec-1b49-4cd3-a2a6-d29ba4f26a57"
      },
      "execution_count": 11,
      "outputs": [
        {
          "output_type": "display_data",
          "data": {
            "text/plain": [
              "<Figure size 640x480 with 1 Axes>"
            ],
            "image/png": "[encoded data removed]"
          },
          "metadata": {}
        }
      ]
    }
  ]
}