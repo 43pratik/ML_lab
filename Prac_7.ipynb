{
  "nbformat": 4,
  "nbformat_minor": 0,
  "metadata": {
    "colab": {
      "provenance": [],
      "authorship_tag": "ABX9TyNGowmJjFG0/cimIimLrq/0",
      "include_colab_link": true
    },
    "kernelspec": {
      "name": "python3",
      "display_name": "Python 3"
    },
    "language_info": {
      "name": "python"
    }
  },
  "cells": [
    {
      "cell_type": "markdown",
      "metadata": {
        "id": "view-in-github",
        "colab_type": "text"
      },
      "source": [
        "<a href=\"https://colab.research.google.com/github/43pratik/ML_lab/blob/main/Prac_7.ipynb\" target=\"_parent\"><img src=\"https://colab.research.google.com/assets/colab-badge.svg\" alt=\"Open In Colab\"/></a>"
      ]
    },
    {
      "cell_type": "code",
      "execution_count": null,
      "metadata": {
        "id": "lRlE2RerFTgJ"
      },
      "outputs": [],
      "source": [
        "import pandas as pd\n",
        "import numpy as np\n",
        "from sklearn.model_selection import train_test_split\n",
        "from sklearn.preprocessing import StandardScaler\n",
        "from sklearn.metrics import accuracy_score, classification_report\n",
        "from sklearn.ensemble import BaggingClassifier, AdaBoostClassifier\n",
        "from sklearn.tree import DecisionTreeClassifier\n",
        "import matplotlib.pyplot as plt\n",
        "import seaborn as sns"
      ]
    },
    {
      "cell_type": "code",
      "source": [
        "data = pd.read_csv('/content/diabetes.csv')"
      ],
      "metadata": {
        "id": "_RaRslnwIwpT"
      },
      "execution_count": null,
      "outputs": []
    },
    {
      "cell_type": "code",
      "source": [
        "#Preprocessing\n",
        "X = data.drop(\"Outcome\", axis=1)\n",
        "y = data[\"Outcome\"]"
      ],
      "metadata": {
        "id": "ZC3qt-_mJnCY"
      },
      "execution_count": null,
      "outputs": []
    },
    {
      "cell_type": "code",
      "source": [
        "scaler = StandardScaler()\n",
        "X_scaled = scaler.fit_transform(X)\n",
        "X_train, X_test, y_train, y_test = train_test_split(X_scaled, y, test_size=0.2, random_state=42)"
      ],
      "metadata": {
        "id": "LArmNqZcJtB2"
      },
      "execution_count": null,
      "outputs": []
    },
    {
      "cell_type": "code",
      "source": [
        "bagging_model = BaggingClassifier(estimator=DecisionTreeClassifier(), n_estimators=100, random_state=42) # Replace 'base_estimator' with 'estimator'\n",
        "bagging_model.fit(X_train, y_train)\n",
        "y_pred_bagging = bagging_model.predict(X_test)\n",
        "print(\"\\nBagging Results:\")\n",
        "print(\"Accuracy:\", accuracy_score(y_test, y_pred_bagging))\n",
        "print(\"Classification Report:\\n\", classification_report(y_test, y_pred_bagging))"
      ],
      "metadata": {
        "colab": {
          "base_uri": "https://localhost:8080/"
        },
        "id": "1CvmogNFJ8Z9",
        "outputId": "19a67f88-6c83-4894-f738-5a0a007f4c39"
      },
      "execution_count": null,
      "outputs": [
        {
          "output_type": "stream",
          "name": "stdout",
          "text": [
            "\n",
            "Bagging Results:\n",
            "Accuracy: 0.7402597402597403\n",
            "Classification Report:\n",
            "               precision    recall  f1-score   support\n",
            "\n",
            "           0       0.81      0.78      0.79        99\n",
            "           1       0.63      0.67      0.65        55\n",
            "\n",
            "    accuracy                           0.74       154\n",
            "   macro avg       0.72      0.73      0.72       154\n",
            "weighted avg       0.75      0.74      0.74       154\n",
            "\n"
          ]
        }
      ]
    },
    {
      "cell_type": "code",
      "source": [
        "# Boosting - Using AdaBoost\n",
        "boosting_model = AdaBoostClassifier(n_estimators=100, random_state=42)\n",
        "boosting_model.fit(X_train, y_train)\n",
        "y_pred_boosting = boosting_model.predict(X_test)\n",
        "print(\"\\nBoosting Results:\")\n",
        "print(\"Accuracy:\", accuracy_score(y_test, y_pred_boosting))\n",
        "print(\"Classification Report:\\n\", classification_report(y_test, y_pred_boosting))"
      ],
      "metadata": {
        "colab": {
          "base_uri": "https://localhost:8080/"
        },
        "id": "aHIsIan1KYD4",
        "outputId": "da9b1e90-aa69-47e4-fff8-44adddfa4b07"
      },
      "execution_count": null,
      "outputs": [
        {
          "output_type": "stream",
          "name": "stdout",
          "text": [
            "\n",
            "Boosting Results:\n",
            "Accuracy: 0.7402597402597403\n",
            "Classification Report:\n",
            "               precision    recall  f1-score   support\n",
            "\n",
            "           0       0.81      0.78      0.79        99\n",
            "           1       0.63      0.67      0.65        55\n",
            "\n",
            "    accuracy                           0.74       154\n",
            "   macro avg       0.72      0.73      0.72       154\n",
            "weighted avg       0.75      0.74      0.74       154\n",
            "\n"
          ]
        }
      ]
    },
    {
      "cell_type": "code",
      "source": [
        "importances = boosting_model.feature_importances_\n",
        "features = data.columns[:-1]\n",
        "sns.barplot(x=importances, y=features)\n",
        "plt.title(\"Feature Importances (Boosting)\")\n",
        "plt.xlabel(\"Importance\")\n",
        "plt.ylabel(\"Feature\")\n",
        "plt.tight_layout()\n",
        "plt.show()"
      ],
      "metadata": {
        "colab": {
          "base_uri": "https://localhost:8080/",
          "height": 487
        },
        "id": "JHuypE6rK1or",
        "outputId": "3cf0bfec-1b49-4cd3-a2a6-d29ba4f26a57"
      },
      "execution_count": null,
      "outputs": [
        {
          "output_type": "display_data",
          "data": {
            "text/plain": [
              "<Figure size 640x480 with 1 Axes>"
            ],
            "image/png": "[encoded data removed]"
          },
          "metadata": {}
        }
      ]
    },
    {
      "cell_type": "code",
      "source": [
        "#Bonus Assignment\n",
        "import pandas as pd\n",
        "import numpy as np\n",
        "from sklearn.model_selection import train_test_split\n",
        "from sklearn.ensemble import RandomForestClassifier\n",
        "from sklearn.metrics import accuracy_score, classification_report, confusion_matrix\n",
        "from sklearn.impute import SimpleImputer\n",
        "from sklearn.preprocessing import LabelEncoder, OneHotEncoder\n",
        "import matplotlib.pyplot as plt\n",
        "import seaborn as sns\n"
      ],
      "metadata": {
        "id": "WRXHpGsLXSsI"
      },
      "execution_count": 1,
      "outputs": []
    },
    {
      "cell_type": "code",
      "source": [
        "df = pd.read_csv('/content/heart_disease_uci.csv')\n",
        "\n",
        "# Data Exploration\n",
        "print(\"First 5 rows:\\n\", df.head())\n",
        "print(\"\\nMissing values:\\n\", df.isnull().sum())\n",
        "print(\"\\nData types:\\n\", df.dtypes)"
      ],
      "metadata": {
        "id": "QU-l03DcaOqr",
        "outputId": "7e3b32d3-ad8a-4188-93d4-8fc5ad3ac6e9",
        "colab": {
          "base_uri": "https://localhost:8080/"
        }
      },
      "execution_count": 3,
      "outputs": [
        {
          "output_type": "stream",
          "name": "stdout",
          "text": [
            "First 5 rows:\n",
            "    id  age     sex    dataset               cp  trestbps   chol    fbs  \\\n",
            "0   1   63    Male  Cleveland   typical angina     145.0  233.0   True   \n",
            "1   2   67    Male  Cleveland     asymptomatic     160.0  286.0  False   \n",
            "2   3   67    Male  Cleveland     asymptomatic     120.0  229.0  False   \n",
            "3   4   37    Male  Cleveland      non-anginal     130.0  250.0  False   \n",
            "4   5   41  Female  Cleveland  atypical angina     130.0  204.0  False   \n",
            "\n",
            "          restecg  thalch  exang  oldpeak        slope   ca  \\\n",
            "0  lv hypertrophy   150.0  False      2.3  downsloping  0.0   \n",
            "1  lv hypertrophy   108.0   True      1.5         flat  3.0   \n",
            "2  lv hypertrophy   129.0   True      2.6         flat  2.0   \n",
            "3          normal   187.0  False      3.5  downsloping  0.0   \n",
            "4  lv hypertrophy   172.0  False      1.4    upsloping  0.0   \n",
            "\n",
            "                thal  num  \n",
            "0       fixed defect    0  \n",
            "1             normal    2  \n",
            "2  reversable defect    1  \n",
            "3             normal    0  \n",
            "4             normal    0  \n",
            "\n",
            "Missing values:\n",
            " id            0\n",
            "age           0\n",
            "sex           0\n",
            "dataset       0\n",
            "cp            0\n",
            "trestbps     59\n",
            "chol         30\n",
            "fbs          90\n",
            "restecg       2\n",
            "thalch       55\n",
            "exang        55\n",
            "oldpeak      62\n",
            "slope       309\n",
            "ca          611\n",
            "thal        486\n",
            "num           0\n",
            "dtype: int64\n",
            "\n",
            "Data types:\n",
            " id            int64\n",
            "age           int64\n",
            "sex          object\n",
            "dataset      object\n",
            "cp           object\n",
            "trestbps    float64\n",
            "chol        float64\n",
            "fbs          object\n",
            "restecg      object\n",
            "thalch      float64\n",
            "exang        object\n",
            "oldpeak     float64\n",
            "slope        object\n",
            "ca          float64\n",
            "thal         object\n",
            "num           int64\n",
            "dtype: object\n"
          ]
        }
      ]
    },
    {
      "cell_type": "code",
      "source": [
        "# Handle missing values (simple imputation for numerical columns)\n",
        "numerical_cols = ['age', 'trestbps', 'chol', 'thalch', 'oldpeak']\n",
        "categorical_cols = ['sex', 'cp', 'fbs', 'restecg', 'exang', 'slope', 'thal']"
      ],
      "metadata": {
        "id": "4C_sShHUaZRk"
      },
      "execution_count": 4,
      "outputs": []
    },
    {
      "cell_type": "code",
      "source": [
        "# Impute numerical missing values with median\n",
        "imputer = SimpleImputer(strategy='median')\n",
        "df[numerical_cols] = imputer.fit_transform(df[numerical_cols])\n"
      ],
      "metadata": {
        "id": "vIz5atHdaep8"
      },
      "execution_count": 5,
      "outputs": []
    },
    {
      "cell_type": "code",
      "source": [
        "# Impute categorical missing values with mode\n",
        "for col in categorical_cols:\n",
        "    if df[col].isnull().sum() > 0:\n",
        "        df[col].fillna(df[col].mode()[0], inplace=True)\n",
        "\n",
        "# Convert categorical variables to numerical\n",
        "label_encoders = {}\n",
        "for col in categorical_cols:\n",
        "    le = LabelEncoder()\n",
        "    df[col] = le.fit_transform(df[col].astype(str))\n",
        "    label_encoders[col] = le\n"
      ],
      "metadata": {
        "id": "7QVc9EBfakg9",
        "outputId": "1b312697-3112-4320-e7ff-6cccfb15d6f9",
        "colab": {
          "base_uri": "https://localhost:8080/"
        }
      },
      "execution_count": 6,
      "outputs": [
        {
          "output_type": "stream",
          "name": "stderr",
          "text": [
            "<ipython-input-6-71e14c0cfa5a>:4: FutureWarning: A value is trying to be set on a copy of a DataFrame or Series through chained assignment using an inplace method.\n",
            "The behavior will change in pandas 3.0. This inplace method will never work because the intermediate object on which we are setting values always behaves as a copy.\n",
            "\n",
            "For example, when doing 'df[col].method(value, inplace=True)', try using 'df.method({col: value}, inplace=True)' or df[col] = df[col].method(value) instead, to perform the operation inplace on the original object.\n",
            "\n",
            "\n",
            "  df[col].fillna(df[col].mode()[0], inplace=True)\n",
            "<ipython-input-6-71e14c0cfa5a>:4: FutureWarning: Downcasting object dtype arrays on .fillna, .ffill, .bfill is deprecated and will change in a future version. Call result.infer_objects(copy=False) instead. To opt-in to the future behavior, set `pd.set_option('future.no_silent_downcasting', True)`\n",
            "  df[col].fillna(df[col].mode()[0], inplace=True)\n"
          ]
        }
      ]
    },
    {
      "cell_type": "code",
      "source": [
        "# Define features and target\n",
        "X = df.drop(['num', 'id', 'dataset'], axis=1)  # It drops the non-predictive columns\n",
        "y = df['num'].apply(lambda x: 1 if x > 0 else 0)  # Binary classification (0: no heart disease, 1: heart disease)"
      ],
      "metadata": {
        "id": "bXhDUcGHauNu"
      },
      "execution_count": 7,
      "outputs": []
    },
    {
      "cell_type": "code",
      "source": [
        "# IKt Split data into train and test sets\n",
        "X_train, X_test, y_train, y_test = train_test_split(X, y, test_size=0.2, random_state=42, stratify=y)"
      ],
      "metadata": {
        "id": "by0tW8Rva7CI"
      },
      "execution_count": 8,
      "outputs": []
    },
    {
      "cell_type": "code",
      "source": [
        "# Build Random Forest Model\n",
        "rf = RandomForestClassifier(n_estimators=100, random_state=42)\n",
        "rf.fit(X_train, y_train)\n",
        "\n",
        "# Make predictions\n",
        "y_pred = rf.predict(X_test)"
      ],
      "metadata": {
        "id": "kkH6dlrybCPQ"
      },
      "execution_count": 9,
      "outputs": []
    },
    {
      "cell_type": "code",
      "source": [
        "#It evaluate the model\n",
        "print(\"\\nAccuracy:\", accuracy_score(y_test, y_pred))\n",
        "print(\"\\nClassification Report:\\n\", classification_report(y_test, y_pred))\n",
        "print(\"\\nConfusion Matrix:\\n\", confusion_matrix(y_test, y_pred))\n"
      ],
      "metadata": {
        "id": "Lmwur6JZbHDZ",
        "outputId": "dd637c71-c695-4206-8ba2-f98ad91a71f4",
        "colab": {
          "base_uri": "https://localhost:8080/"
        }
      },
      "execution_count": 10,
      "outputs": [
        {
          "output_type": "stream",
          "name": "stdout",
          "text": [
            "\n",
            "Accuracy: 0.8369565217391305\n",
            "\n",
            "Classification Report:\n",
            "               precision    recall  f1-score   support\n",
            "\n",
            "           0       0.82      0.80      0.81        82\n",
            "           1       0.85      0.86      0.85       102\n",
            "\n",
            "    accuracy                           0.84       184\n",
            "   macro avg       0.84      0.83      0.83       184\n",
            "weighted avg       0.84      0.84      0.84       184\n",
            "\n",
            "\n",
            "Confusion Matrix:\n",
            " [[66 16]\n",
            " [14 88]]\n"
          ]
        }
      ]
    },
    {
      "cell_type": "code",
      "source": [
        "# Feature Importance\n",
        "feature_importances = pd.DataFrame({'Feature': X.columns, 'Importance': rf.feature_importances_})\n",
        "feature_importances = feature_importances.sort_values('Importance', ascending=False)"
      ],
      "metadata": {
        "id": "U_RtZGwfbMbR"
      },
      "execution_count": 11,
      "outputs": []
    },
    {
      "cell_type": "code",
      "source": [
        "plt.figure(figsize=(10, 6))\n",
        "sns.barplot(x='Importance', y='Feature', data=feature_importances)\n",
        "plt.title('Feature Importance')\n",
        "plt.show()\n"
      ],
      "metadata": {
        "id": "XjLEB0PUbamD",
        "outputId": "bc7075f9-bdb7-447e-c936-28d0eb4eed90",
        "colab": {
          "base_uri": "https://localhost:8080/",
          "height": 564
        }
      },
      "execution_count": 12,
      "outputs": [
        {
          "output_type": "display_data",
          "data": {
            "text/plain": [
              "<Figure size 1000x600 with 1 Axes>"
            ],
            "image/png": "[encoded data removed]"
          },
          "metadata": {}
        }
      ]
    }
  ]
}