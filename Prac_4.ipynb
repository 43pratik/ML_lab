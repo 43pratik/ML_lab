{
  "nbformat": 4,
  "nbformat_minor": 0,
  "metadata": {
    "colab": {
      "provenance": [],
      "authorship_tag": "ABX9TyNVNU8+5cytMlEUIIRLtYl2",
      "include_colab_link": true
    },
    "kernelspec": {
      "name": "python3",
      "display_name": "Python 3"
    },
    "language_info": {
      "name": "python"
    }
  },
  "cells": [
    {
      "cell_type": "markdown",
      "metadata": {
        "id": "view-in-github",
        "colab_type": "text"
      },
      "source": [
        "<a href=\"https://colab.research.google.com/github/43pratik/ML_lab/blob/main/Prac_4.ipynb\" target=\"_parent\"><img src=\"https://colab.research.google.com/assets/colab-badge.svg\" alt=\"Open In Colab\"/></a>"
      ]
    },
    {
      "cell_type": "code",
      "execution_count": 1,
      "metadata": {
        "id": "0t1dVjikuxHB"
      },
      "outputs": [],
      "source": [
        "import pandas as pd\n",
        "from sklearn.model_selection import train_test_split\n",
        "from sklearn.linear_model import LinearRegression\n",
        "from sklearn.metrics import mean_absolute_error, mean_squared_error, r2_score\n",
        "import numpy as np"
      ]
    },
    {
      "cell_type": "code",
      "source": [
        "file_path = \"/content/House Price India.csv\"\n",
        "df = pd.read_csv(file_path)\n",
        "print(df.head())\n",
        "print(df.info())"
      ],
      "metadata": {
        "colab": {
          "base_uri": "https://localhost:8080/"
        },
        "id": "DKNVSCAE2zQZ",
        "outputId": "87fb1bf0-a3e0-4978-fe7c-f180beaa119e"
      },
      "execution_count": 2,
      "outputs": [
        {
          "output_type": "stream",
          "name": "stdout",
          "text": [
            "           id   Date  number of bedrooms  number of bathrooms  living area  \\\n",
            "0  6762810635  42491                   4                 2.50         2920   \n",
            "1  6762810998  42491                   5                 2.75         2910   \n",
            "2  6762812605  42491                   4                 2.50         3310   \n",
            "3  6762812919  42491                   3                 2.00         2710   \n",
            "4  6762813105  42491                   3                 2.50         2600   \n",
            "\n",
            "   lot area  number of floors  waterfront present  number of views  \\\n",
            "0      4000               1.5                   0                0   \n",
            "1      9480               1.5                   0                0   \n",
            "2     42998               2.0                   0                0   \n",
            "3      4500               1.5                   0                0   \n",
            "4      4750               1.0                   0                0   \n",
            "\n",
            "   condition of the house  ...  Built Year  Renovation Year  Postal Code  \\\n",
            "0                       5  ...        1909                0       122004   \n",
            "1                       3  ...        1939                0       122004   \n",
            "2                       3  ...        2001                0       122005   \n",
            "3                       4  ...        1929                0       122006   \n",
            "4                       4  ...        1951                0       122007   \n",
            "\n",
            "   Lattitude  Longitude  living_area_renov  lot_area_renov  \\\n",
            "0    52.8878   -114.470               2470            4000   \n",
            "1    52.8852   -114.468               2940            6600   \n",
            "2    52.9532   -114.321               3350           42847   \n",
            "3    52.9047   -114.485               2060            4500   \n",
            "4    52.9133   -114.590               2380            4750   \n",
            "\n",
            "   Number of schools nearby  Distance from the airport    Price  \n",
            "0                         2                         51  1400000  \n",
            "1                         1                         53  1200000  \n",
            "2                         3                         76   838000  \n",
            "3                         1                         51   805000  \n",
            "4                         1                         67   790000  \n",
            "\n",
            "[5 rows x 23 columns]\n",
            "<class 'pandas.core.frame.DataFrame'>\n",
            "RangeIndex: 14619 entries, 0 to 14618\n",
            "Data columns (total 23 columns):\n",
            " #   Column                                 Non-Null Count  Dtype  \n",
            "---  ------                                 --------------  -----  \n",
            " 0   id                                     14619 non-null  int64  \n",
            " 1   Date                                   14619 non-null  int64  \n",
            " 2   number of bedrooms                     14619 non-null  int64  \n",
            " 3   number of bathrooms                    14619 non-null  float64\n",
            " 4   living area                            14619 non-null  int64  \n",
            " 5   lot area                               14619 non-null  int64  \n",
            " 6   number of floors                       14619 non-null  float64\n",
            " 7   waterfront present                     14619 non-null  int64  \n",
            " 8   number of views                        14619 non-null  int64  \n",
            " 9   condition of the house                 14619 non-null  int64  \n",
            " 10  grade of the house                     14619 non-null  int64  \n",
            " 11  Area of the house(excluding basement)  14619 non-null  int64  \n",
            " 12  Area of the basement                   14619 non-null  int64  \n",
            " 13  Built Year                             14619 non-null  int64  \n",
            " 14  Renovation Year                        14619 non-null  int64  \n",
            " 15  Postal Code                            14619 non-null  int64  \n",
            " 16  Lattitude                              14619 non-null  float64\n",
            " 17  Longitude                              14619 non-null  float64\n",
            " 18  living_area_renov                      14619 non-null  int64  \n",
            " 19  lot_area_renov                         14619 non-null  int64  \n",
            " 20  Number of schools nearby               14619 non-null  int64  \n",
            " 21  Distance from the airport              14619 non-null  int64  \n",
            " 22  Price                                  14619 non-null  int64  \n",
            "dtypes: float64(4), int64(19)\n",
            "memory usage: 2.6 MB\n",
            "None\n"
          ]
        }
      ]
    },
    {
      "source": [
        "df[\"number of room\"] = df[\"number of bedrooms\"] + df[\"number of bathrooms\"]\n",
        "features = [\"living area\", \"number of bedrooms\", \"number of bathrooms\", \"number of room\"]\n",
        "target = \"SALES_PRICE\""
      ],
      "cell_type": "code",
      "metadata": {
        "id": "meQxsrE58lQe"
      },
      "execution_count": 5,
      "outputs": []
    },
    {
      "cell_type": "code",
      "source": [
        "df[features] = df[features].fillna(df[features].median())"
      ],
      "metadata": {
        "id": "Ra0-MXVN8vtH"
      },
      "execution_count": 6,
      "outputs": []
    },
    {
      "source": [
        "print(df.columns)  # Print the available column names"
      ],
      "cell_type": "code",
      "metadata": {
        "colab": {
          "base_uri": "https://localhost:8080/"
        },
        "id": "0vmbDKdQ9cun",
        "outputId": "621ac605-f647-4c0e-8032-04599e6cf67c"
      },
      "execution_count": 9,
      "outputs": [
        {
          "output_type": "stream",
          "name": "stdout",
          "text": [
            "Index(['id', 'Date', 'number of bedrooms', 'number of bathrooms',\n",
            "       'living area', 'lot area', 'number of floors', 'waterfront present',\n",
            "       'number of views', 'condition of the house', 'grade of the house',\n",
            "       'Area of the house(excluding basement)', 'Area of the basement',\n",
            "       'Built Year', 'Renovation Year', 'Postal Code', 'Lattitude',\n",
            "       'Longitude', 'living_area_renov', 'lot_area_renov',\n",
            "       'Number of schools nearby', 'Distance from the airport', 'Price',\n",
            "       'number of room'],\n",
            "      dtype='object')\n"
          ]
        }
      ]
    },
    {
      "source": [
        "target = \"correct_column_name\"  # Replace with the correct column name"
      ],
      "cell_type": "code",
      "metadata": {
        "id": "0NT10TAC9dFO"
      },
      "execution_count": 10,
      "outputs": []
    },
    {
      "source": [
        "target = \"Sale Price\""
      ],
      "cell_type": "code",
      "metadata": {
        "id": "lj5pnLBR9dZO"
      },
      "execution_count": 11,
      "outputs": []
    },
    {
      "source": [
        "import pandas as pd\n",
        "from sklearn.model_selection import train_test_split\n",
        "from sklearn.linear_model import LinearRegression\n",
        "from sklearn.metrics import mean_absolute_error, mean_squared_error\n",
        "import numpy as np\n",
        "\n",
        "# Load the dataset\n",
        "file_path = \"House_Price_Data.csv\"  # Change this to your actual file path\n",
        "df = pd.read_csv(\"/content/House Price India.csv\")\n",
        "\n",
        "# Create 'age of the house' feature\n",
        "df[\"age of the house\"] = 2025 - df[\"Built Year\"]  # Assuming current year is 2025\n",
        "\n",
        "# Select relevant features and target variable\n",
        "features = [\"living area\", \"N_ROOM\", \"age of the house\"]\n",
        "target = \"Price\"\n",
        "\n",
        "X = df[features]\n",
        "y = df[target]\n",
        "\n",
        "# Split the data into training (80%) and testing (20%) sets\n",
        "X_train, X_test, y_train, y_test = train_test_split(X, y, test_size=0.2, random_state=42)\n",
        "\n",
        "# Train the Linear Regression model\n",
        "model = LinearRegression()\n",
        "model.fit(X_train, y_train)\n",
        "\n",
        "# Make predictions\n",
        "y_pred = model.predict(X_test)\n",
        "\n",
        "# Evaluate the model\n",
        "mae = mean_absolute_error(y_test, y_pred)\n",
        "mse = mean_squared_error(y_test, y_pred)\n",
        "rmse = np.sqrt(mse)\n",
        "\n",
        "# Print evaluation metrics\n",
        "print(f\"Mean Absolute Error (MAE): {mae}\")\n",
        "print(f\"Mean Squared Error (MSE): {mse}\")\n",
        "print(f\"Root Mean Squared Error (RMSE): {rmse}\")"
      ],
      "cell_type": "code",
      "metadata": {
        "colab": {
          "base_uri": "https://localhost:8080/",
          "height": 356
        },
        "id": "OIFjdMQZ_JK9",
        "outputId": "14fefdea-0b60-4dc0-8c6f-bb3ecbddf354"
      },
      "execution_count": 21,
      "outputs": [
        {
          "output_type": "error",
          "ename": "KeyError",
          "evalue": "\"['N_ROOM'] not in index\"",
          "traceback": [
            "\u001b[0;31m---------------------------------------------------------------------------\u001b[0m",
            "\u001b[0;31mKeyError\u001b[0m                                  Traceback (most recent call last)",
            "\u001b[0;32m<ipython-input-21-89dd89017195>\u001b[0m in \u001b[0;36m<cell line: 0>\u001b[0;34m()\u001b[0m\n\u001b[1;32m     16\u001b[0m \u001b[0mtarget\u001b[0m \u001b[0;34m=\u001b[0m \u001b[0;34m\"Price\"\u001b[0m\u001b[0;34m\u001b[0m\u001b[0;34m\u001b[0m\u001b[0m\n\u001b[1;32m     17\u001b[0m \u001b[0;34m\u001b[0m\u001b[0m\n\u001b[0;32m---> 18\u001b[0;31m \u001b[0mX\u001b[0m \u001b[0;34m=\u001b[0m \u001b[0mdf\u001b[0m\u001b[0;34m[\u001b[0m\u001b[0mfeatures\u001b[0m\u001b[0;34m]\u001b[0m\u001b[0;34m\u001b[0m\u001b[0;34m\u001b[0m\u001b[0m\n\u001b[0m\u001b[1;32m     19\u001b[0m \u001b[0my\u001b[0m \u001b[0;34m=\u001b[0m \u001b[0mdf\u001b[0m\u001b[0;34m[\u001b[0m\u001b[0mtarget\u001b[0m\u001b[0;34m]\u001b[0m\u001b[0;34m\u001b[0m\u001b[0;34m\u001b[0m\u001b[0m\n\u001b[1;32m     20\u001b[0m \u001b[0;34m\u001b[0m\u001b[0m\n",
            "\u001b[0;32m/usr/local/lib/python3.11/dist-packages/pandas/core/frame.py\u001b[0m in \u001b[0;36m__getitem__\u001b[0;34m(self, key)\u001b[0m\n\u001b[1;32m   4106\u001b[0m             \u001b[0;32mif\u001b[0m \u001b[0mis_iterator\u001b[0m\u001b[0;34m(\u001b[0m\u001b[0mkey\u001b[0m\u001b[0;34m)\u001b[0m\u001b[0;34m:\u001b[0m\u001b[0;34m\u001b[0m\u001b[0;34m\u001b[0m\u001b[0m\n\u001b[1;32m   4107\u001b[0m                 \u001b[0mkey\u001b[0m \u001b[0;34m=\u001b[0m \u001b[0mlist\u001b[0m\u001b[0;34m(\u001b[0m\u001b[0mkey\u001b[0m\u001b[0;34m)\u001b[0m\u001b[0;34m\u001b[0m\u001b[0;34m\u001b[0m\u001b[0m\n\u001b[0;32m-> 4108\u001b[0;31m             \u001b[0mindexer\u001b[0m \u001b[0;34m=\u001b[0m \u001b[0mself\u001b[0m\u001b[0;34m.\u001b[0m\u001b[0mcolumns\u001b[0m\u001b[0;34m.\u001b[0m\u001b[0m_get_indexer_strict\u001b[0m\u001b[0;34m(\u001b[0m\u001b[0mkey\u001b[0m\u001b[0;34m,\u001b[0m \u001b[0;34m\"columns\"\u001b[0m\u001b[0;34m)\u001b[0m\u001b[0;34m[\u001b[0m\u001b[0;36m1\u001b[0m\u001b[0;34m]\u001b[0m\u001b[0;34m\u001b[0m\u001b[0;34m\u001b[0m\u001b[0m\n\u001b[0m\u001b[1;32m   4109\u001b[0m \u001b[0;34m\u001b[0m\u001b[0m\n\u001b[1;32m   4110\u001b[0m         \u001b[0;31m# take() does not accept boolean indexers\u001b[0m\u001b[0;34m\u001b[0m\u001b[0;34m\u001b[0m\u001b[0m\n",
            "\u001b[0;32m/usr/local/lib/python3.11/dist-packages/pandas/core/indexes/base.py\u001b[0m in \u001b[0;36m_get_indexer_strict\u001b[0;34m(self, key, axis_name)\u001b[0m\n\u001b[1;32m   6198\u001b[0m             \u001b[0mkeyarr\u001b[0m\u001b[0;34m,\u001b[0m \u001b[0mindexer\u001b[0m\u001b[0;34m,\u001b[0m \u001b[0mnew_indexer\u001b[0m \u001b[0;34m=\u001b[0m \u001b[0mself\u001b[0m\u001b[0;34m.\u001b[0m\u001b[0m_reindex_non_unique\u001b[0m\u001b[0;34m(\u001b[0m\u001b[0mkeyarr\u001b[0m\u001b[0;34m)\u001b[0m\u001b[0;34m\u001b[0m\u001b[0;34m\u001b[0m\u001b[0m\n\u001b[1;32m   6199\u001b[0m \u001b[0;34m\u001b[0m\u001b[0m\n\u001b[0;32m-> 6200\u001b[0;31m         \u001b[0mself\u001b[0m\u001b[0;34m.\u001b[0m\u001b[0m_raise_if_missing\u001b[0m\u001b[0;34m(\u001b[0m\u001b[0mkeyarr\u001b[0m\u001b[0;34m,\u001b[0m \u001b[0mindexer\u001b[0m\u001b[0;34m,\u001b[0m \u001b[0maxis_name\u001b[0m\u001b[0;34m)\u001b[0m\u001b[0;34m\u001b[0m\u001b[0;34m\u001b[0m\u001b[0m\n\u001b[0m\u001b[1;32m   6201\u001b[0m \u001b[0;34m\u001b[0m\u001b[0m\n\u001b[1;32m   6202\u001b[0m         \u001b[0mkeyarr\u001b[0m \u001b[0;34m=\u001b[0m \u001b[0mself\u001b[0m\u001b[0;34m.\u001b[0m\u001b[0mtake\u001b[0m\u001b[0;34m(\u001b[0m\u001b[0mindexer\u001b[0m\u001b[0;34m)\u001b[0m\u001b[0;34m\u001b[0m\u001b[0;34m\u001b[0m\u001b[0m\n",
            "\u001b[0;32m/usr/local/lib/python3.11/dist-packages/pandas/core/indexes/base.py\u001b[0m in \u001b[0;36m_raise_if_missing\u001b[0;34m(self, key, indexer, axis_name)\u001b[0m\n\u001b[1;32m   6250\u001b[0m \u001b[0;34m\u001b[0m\u001b[0m\n\u001b[1;32m   6251\u001b[0m             \u001b[0mnot_found\u001b[0m \u001b[0;34m=\u001b[0m \u001b[0mlist\u001b[0m\u001b[0;34m(\u001b[0m\u001b[0mensure_index\u001b[0m\u001b[0;34m(\u001b[0m\u001b[0mkey\u001b[0m\u001b[0;34m)\u001b[0m\u001b[0;34m[\u001b[0m\u001b[0mmissing_mask\u001b[0m\u001b[0;34m.\u001b[0m\u001b[0mnonzero\u001b[0m\u001b[0;34m(\u001b[0m\u001b[0;34m)\u001b[0m\u001b[0;34m[\u001b[0m\u001b[0;36m0\u001b[0m\u001b[0;34m]\u001b[0m\u001b[0;34m]\u001b[0m\u001b[0;34m.\u001b[0m\u001b[0munique\u001b[0m\u001b[0;34m(\u001b[0m\u001b[0;34m)\u001b[0m\u001b[0;34m)\u001b[0m\u001b[0;34m\u001b[0m\u001b[0;34m\u001b[0m\u001b[0m\n\u001b[0;32m-> 6252\u001b[0;31m             \u001b[0;32mraise\u001b[0m \u001b[0mKeyError\u001b[0m\u001b[0;34m(\u001b[0m\u001b[0;34mf\"{not_found} not in index\"\u001b[0m\u001b[0;34m)\u001b[0m\u001b[0;34m\u001b[0m\u001b[0;34m\u001b[0m\u001b[0m\n\u001b[0m\u001b[1;32m   6253\u001b[0m \u001b[0;34m\u001b[0m\u001b[0m\n\u001b[1;32m   6254\u001b[0m     \u001b[0;34m@\u001b[0m\u001b[0moverload\u001b[0m\u001b[0;34m\u001b[0m\u001b[0;34m\u001b[0m\u001b[0m\n",
            "\u001b[0;31mKeyError\u001b[0m: \"['N_ROOM'] not in index\""
          ]
        }
      ]
    }
  ]
}