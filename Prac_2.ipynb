{
  "nbformat": 4,
  "nbformat_minor": 0,
  "metadata": {
    "colab": {
      "provenance": [],
      "authorship_tag": "ABX9TyN7j68PXPsDtEn8cyMvz3th",
      "include_colab_link": true
    },
    "kernelspec": {
      "name": "python3",
      "display_name": "Python 3"
    },
    "language_info": {
      "name": "python"
    }
  },
  "cells": [
    {
      "cell_type": "markdown",
      "metadata": {
        "id": "view-in-github",
        "colab_type": "text"
      },
      "source": [
        "<a href=\"https://colab.research.google.com/github/43pratik/ML_lab/blob/main/Prac_2.ipynb\" target=\"_parent\"><img src=\"https://colab.research.google.com/assets/colab-badge.svg\" alt=\"Open In Colab\"/></a>"
      ]
    },
    {
      "cell_type": "code",
      "execution_count": 12,
      "metadata": {
        "id": "Ad1gF-7GX-xB",
        "outputId": "576389a6-e444-4adb-fa63-911d4f75b717",
        "colab": {
          "base_uri": "https://localhost:8080/"
        }
      },
      "outputs": [
        {
          "output_type": "stream",
          "name": "stdout",
          "text": [
            "Updated DataFrame with 'Tax (10%)' column:\n",
            "   Customer ID  Gender  Age Product category  Price  Tax (18%)\n",
            "0      CUST001    Male   34           Beauty    150       15.0\n",
            "1      CUST002  Female   26         Clothing   1000      100.0\n",
            "2      CUST003    Male   50      Electronics     30        3.0\n",
            "3      CUST004    Male   37         Clothing    500       50.0\n",
            "4      CUST005    Male   30           Beauty    100       10.0\n",
            "5      CUST006  Female   45           Beauty     30        3.0\n",
            "6      CUST007    Male   46         Clothing     50        5.0\n",
            "7      CUST008    Male   30      Electronics    100       10.0\n",
            "8      CUST009    Male   63      Electronics    600       60.0\n",
            "9      CUST010  Female   52         Clothing    200       20.0\n",
            "10     CUST011    Male   23         Clothing    100       10.0\n",
            "11     CUST012    Male   35           Beauty     75        7.5\n",
            "12     CUST013    Male   22      Electronics   1500      150.0\n",
            "13     CUST014    Male   64         Clothing    120       12.0\n",
            "14     CUST015  Female   42      Electronics   2000      200.0\n",
            "15     CUST016    Male   19         Clothing   1500      150.0\n",
            "16     CUST017  Female   27         Clothing    100       10.0\n",
            "\n",
            "New column 'Tax (18%)' added and saved to 'sales_data_with_tax.xlsx'.\n"
          ]
        }
      ],
      "source": [
        "import pandas as pd\n",
        "\n",
        "df = pd.read_excel('sales_data.xlsx')\n",
        "\n",
        "\n",
        "df['Tax (18%)'] = df['Price'] * 0.10\n",
        "\n",
        "print(\"Updated DataFrame with 'Tax (10%)' column:\")\n",
        "print(df)\n",
        "\n",
        "df.to_excel('sales_data_with_tax.xlsx', index=False)\n",
        "\n",
        "print(\"\\nNew column 'Tax (18%)' added and saved to 'sales_data_with_tax.xlsx'.\")"
      ]
    }
  ]
}